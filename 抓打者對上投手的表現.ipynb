{
 "cells": [
  {
   "cell_type": "code",
   "execution_count": 701,
   "metadata": {},
   "outputs": [],
   "source": [
    "import requests\n",
    "import copy\n",
    "import matplotlib.pyplot as plt\n",
    "import numpy as np\n",
    "from bs4 import BeautifulSoup\n",
    "from matplotlib.font_manager import FontProperties\n",
    "myfont = FontProperties(fname=r'./module/wqy-microhei.ttc') #設定中文字體\n",
    "import re #python 的模塊 regular expression"
   ]
  },
  {
   "cell_type": "code",
   "execution_count": 702,
   "metadata": {},
   "outputs": [],
   "source": [
    "'''讓使用者輸入想看哪一隊伍的球員'''\n",
    "userinput=2 # 0=Lamigo, 1=統一7-ELEVEn, 2=富邦, 3=中信兄弟\n",
    "teamName=['Lamigo', '統一7-ELEVEn', '富邦', '中信兄弟']\n",
    "teamCode=['A02','L01','B04','E02']\n",
    "res = requests.get(\"http://www.cpbl.com.tw/web/team_player.php?&team={}\".format(teamCode[userinput]))# 抓資料頁面\n",
    "soup = BeautifulSoup(res.text)\n",
    "player = soup.select('td a')"
   ]
  },
  {
   "cell_type": "code",
   "execution_count": 704,
   "metadata": {},
   "outputs": [
    {
     "data": {
      "text/plain": [
       "{'伍鐸': 'E0L7',\n",
       " '羅嘉仁': 'R390',\n",
       " '陳鴻文': 'R669',\n",
       " '黃亦志': 'B0J4',\n",
       " '倪福德': 'R081',\n",
       " '蔡明晋': 'R107',\n",
       " '喬登': '004631',\n",
       " '羅力': 'A0C0',\n",
       " '賴鴻誠': 'R354',\n",
       " '郭泓志': 'R675',\n",
       " '陳仕朋': 'B0K0',\n",
       " '林羿豪': 'R670',\n",
       " '方克偉': 'R253',\n",
       " '林宥穎': 'R398',\n",
       " '蔡友達': 'B0I5',\n",
       " '林益全': 'R205',\n",
       " '范國宸': 'k509',\n",
       " '王正棠': 'k462',\n",
       " '陳品捷': 'H400',\n",
       " '李宗賢': 'H593',\n",
       " '蔣智賢': 'R399',\n",
       " '于孟馗': 'H329',\n",
       " '陳凱倫': 'R498',\n",
       " '張正偉': 'R457',\n",
       " '胡金龍': 'R678',\n",
       " '高國輝': 'R400',\n",
       " '林哲瑄': 'R401',\n",
       " '高孝儀': 'B0I0'}"
      ]
     },
     "execution_count": 704,
     "metadata": {},
     "output_type": "execute_result"
    }
   ],
   "source": [
    "'''查看某一隊伍所有球員的球員編號'''\n",
    "playerId={}\n",
    "for index,value in enumerate(player):\n",
    "    aa=re.search(r'player_id=(.*)&', str(value), re.M|re.I)\n",
    "    playerId[player[index].text] = aa[1]\n",
    "playerId"
   ]
  },
  {
   "cell_type": "code",
   "execution_count": 575,
   "metadata": {},
   "outputs": [],
   "source": [
    "'''請使用者輸入要找哪位打者的資料'''\n",
    "inputPlayer=\"胡金龍\""
   ]
  },
  {
   "cell_type": "code",
   "execution_count": 576,
   "metadata": {},
   "outputs": [],
   "source": [
    "'''找出這位打者2018所有的比賽編號跟日期'''\n",
    "res = requests.get(\"http://www.cpbl.com.tw/players/follow.html?player_id={}&teamno={}&year=2018\".format(playerId[inputPlayer],teamCode[userinput]))# 抓資料頁面\n",
    "soup = BeautifulSoup(res.text)\n",
    "gamedate=[]#存放2018比賽日期\n",
    "gameId=[]#存放2018比賽編號\n",
    "for trValue in soup.select('.gap_b20 table tr'):\n",
    "    game = trValue.select('td')\n",
    "    if game!=[]:\n",
    "        dd=re.search(r\"(\\d\\d)/(\\d\\d)\\((\\d*)\\)\", str(game[0].text))\n",
    "        gamedate.append(\"2018-\"+dd.group(1)+\"-\"+dd.group(2))\n",
    "        gameId.append(dd.group(3))\n",
    "print(\"gamedate:\",gamedate)\n",
    "print(\"gameId\",gameId)\n"
   ]
  },
  {
   "cell_type": "code",
   "execution_count": 690,
   "metadata": {
    "scrolled": false
   },
   "outputs": [
    {
     "name": "stdout",
     "output_type": "stream",
     "text": [
      "<td align=\"left\">第三棒DH胡金龍：犧牲觸擊，二三壘有人，一出局。</td> gameDate: 2018-09-29\n",
      "<td align=\"left\">第三棒LF胡金龍：觸擊成功，二三壘有人，一出局。</td> gameDate: 2018-09-21\n",
      "<td align=\"left\">第五棒，LF，胡金龍：中外野方向高飛犧牲打，一出局，1分打點，二壘跑者推進至三壘</td> gameDate: 2018-06-12\n",
      "<td align=\"left\">第五棒DH胡金龍：犧牲觸擊，一出局，二壘有人。</td> gameDate: 2018-06-09\n",
      "<td align=\"left\">胡金龍盜壘成功，二壘有人。</td> gameDate: 2018-06-01\n",
      "<td align=\"left\">第五棒DH胡金龍：高飛犧牲打，帶有一分打點，蔣智賢前進二壘，二壘有人。</td> gameDate: 2018-06-01\n",
      "<td align=\"left\">胡金龍盜壘失敗，一出局。</td> gameDate: 2018-05-27\n",
      "<td align=\"left\">胡金龍盜二壘失敗，二出局</td> gameDate: 2018-05-12\n",
      "<td align=\"left\">第三棒LF胡金龍：一壘跑者盜壘失敗，三出局。</td> gameDate: 2018-05-04\n",
      "<td align=\"left\">第二棒 LF 胡金龍：成功的犧牲觸擊，一出局，跑者推進上到二壘</td> gameDate: 2018-04-29\n"
     ]
    }
   ],
   "source": [
    "'''抓每一場比賽(gameId)的所有紀錄,並抓取關鍵字來看打者面對不同投手的打擊狀況'''\n",
    "playRecord={} # 儲存打者的表現及面對的投手\n",
    "pitcherTeam={}#儲存投手的隊伍\n",
    "for indexDate,date in enumerate(gamedate):\n",
    "    res = requests.get(\"http://www.cpbl.com.tw/games/play_by_play.html?&game_type=01&game_id={}&game_date={}&pbyear=2018\".format(gameId[indexDate],date ))# 抓資料頁面\n",
    "    soup = BeautifulSoup(res.text)\n",
    "    player = soup.select('.gap_b20 td')\n",
    "    pitcher=\"ERROR: Can't find pitcher\"\n",
    "    pTeam=\"ERROR: Can't find team\"\n",
    "    for valuePlayer in player:\n",
    "        if (bool(re.search('先發投手',valuePlayer.text)) or bool(re.search('更換投手',valuePlayer.text))) and (not bool(re.search('{}'.format(teamName[userinput]),valuePlayer.text))) :\n",
    "        # 抓打者所面對的投手是誰\n",
    "            pitcher = re.search('投手.([^， 。,、]*)',valuePlayer.text).group(1)\n",
    "            if len(pitcher)==1:\n",
    "                p = re.search('投手.([^， 。,、]*)[， 。,、]([^， 。,、]*)',valuePlayer.text)\n",
    "                pitcher=p.group(1)+p.group(2)\n",
    "            pTeam= re.match('(.*)..投手',valuePlayer.text).group(1)\n",
    "        elif  bool(re.search('{}'.format(inputPlayer),valuePlayer.text)) and (not bool(re.search('{}'.format(teamName[userinput]),valuePlayer.text))):\n",
    "        # 抓指定打者(ex.胡金龍)在打擊時的紀錄\n",
    "            if re.search(\"四壞|觸身|全壘打|三振|安打|飛球|高飛接殺|滾地球|反彈球|刺殺|軟弱滾地|野手選擇\",valuePlayer.text):\n",
    "            # row中出現這些字其中之一\n",
    "                matchWord=re.search(\"四壞|觸身|全壘打|三振|安打|飛球|高飛接殺|滾地球|反彈球|刺殺|軟弱滾地|野手選擇\",valuePlayer.text).group()\n",
    "                if playRecord.get(pitcher)==None:\n",
    "                    playRecord[pitcher]={\"四壞\":0,\"觸身\":0,\"全壘打\":0,\"三振\":0,\"安打\":0,\"飛球\":0,\"滾地球\":0}\n",
    "                    pitcherTeam[pitcher]=pTeam\n",
    "                if matchWord==\"四壞\" or matchWord==\"觸身\" or matchWord==\"全壘打\" or matchWord==\"三振\" or matchWord==\"安打\" :\n",
    "                    playRecord[pitcher][matchWord]+=1\n",
    "                elif matchWord==\"飛球\" or matchWord==\"高飛接殺\":\n",
    "                    playRecord[pitcher][\"飛球\"]+=1\n",
    "                elif matchWord==\"滾地球\" or matchWord==\"反彈球\" or matchWord==\"刺殺\" or matchWord==\"軟弱滾地\" or matchWord==\"野手選擇\":\n",
    "                    playRecord[pitcher][\"滾地球\"]+=1\n",
    "                else:\n",
    "                    print(\"Error:有搜尋到那些字matchWord有誤\",valuePlayer,matchWord,\"gameDate:\",date)\n",
    "            else:\n",
    "                print(valuePlayer,\"gameDate:\",date)\n"
   ]
  },
  {
   "cell_type": "code",
   "execution_count": 691,
   "metadata": {},
   "outputs": [
    {
     "data": {
      "text/plain": [
       "{'紐維拉': {'四壞': 0, '觸身': 1, '全壘打': 1, '三振': 1, '安打': 3, '飛球': 4, '滾地球': 1},\n",
       " '艾迪頓': {'四壞': 5, '觸身': 0, '全壘打': 1, '三振': 4, '安打': 3, '飛球': 7, '滾地球': 4},\n",
       " '萊福力': {'四壞': 0, '觸身': 0, '全壘打': 2, '三振': 2, '安打': 5, '飛球': 4, '滾地球': 8},\n",
       " '林樺慶': {'四壞': 0, '觸身': 0, '全壘打': 1, '三振': 1, '安打': 7, '飛球': 2, '滾地球': 2},\n",
       " '陳禹勳': {'四壞': 1, '觸身': 0, '全壘打': 0, '三振': 0, '安打': 8, '飛球': 1, '滾地球': 0},\n",
       " '瑞安': {'四壞': 1, '觸身': 0, '全壘打': 0, '三振': 3, '安打': 5, '飛球': 5, '滾地球': 6},\n",
       " '王鏡銘': {'四壞': 0, '觸身': 0, '全壘打': 0, '三振': 0, '安打': 2, '飛球': 2, '滾地球': 2},\n",
       " '江辰晏': {'四壞': 0, '觸身': 0, '全壘打': 0, '三振': 3, '安打': 2, '飛球': 8, '滾地球': 2},\n",
       " '黃竣彥': {'四壞': 0, '觸身': 0, '全壘打': 0, '三振': 0, '安打': 2, '飛球': 2, '滾地球': 1},\n",
       " '安狄': {'四壞': 1, '觸身': 0, '全壘打': 0, '三振': 0, '安打': 1, '飛球': 0, '滾地球': 0},\n",
       " '傅于剛': {'四壞': 0, '觸身': 0, '全壘打': 0, '三振': 0, '安打': 1, '飛球': 2, '滾地球': 1},\n",
       " '謝榮豪': {'四壞': 0, '觸身': 0, '全壘打': 0, '三振': 1, '安打': 0, '飛球': 1, '滾地球': 0},\n",
       " '陳琥': {'四壞': 1, '觸身': 0, '全壘打': 1, '三振': 1, '安打': 3, '飛球': 1, '滾地球': 6},\n",
       " '鄭凱文': {'四壞': 0, '觸身': 0, '全壘打': 1, '三振': 0, '安打': 3, '飛球': 5, '滾地球': 1},\n",
       " '王溢正': {'四壞': 1, '觸身': 0, '全壘打': 1, '三振': 1, '安打': 8, '飛球': 4, '滾地球': 7},\n",
       " '吳丞哲': {'四壞': 2, '觸身': 0, '全壘打': 0, '三振': 1, '安打': 4, '飛球': 2, '滾地球': 4},\n",
       " '黃子鵬': {'四壞': 0, '觸身': 0, '全壘打': 0, '三振': 2, '安打': 1, '飛球': 1, '滾地球': 1},\n",
       " '史博威': {'四壞': 0, '觸身': 0, '全壘打': 0, '三振': 1, '安打': 2, '飛球': 0, '滾地球': 4},\n",
       " '施子謙': {'四壞': 2, '觸身': 0, '全壘打': 0, '三振': 1, '安打': 5, '飛球': 3, '滾地球': 4},\n",
       " '林子崴': {'四壞': 0, '觸身': 0, '全壘打': 0, '三振': 0, '安打': 0, '飛球': 1, '滾地球': 1},\n",
       " '陳韻文': {'四壞': 0, '觸身': 0, '全壘打': 1, '三振': 1, '安打': 1, '飛球': 2, '滾地球': 0},\n",
       " '羅里奇': {'四壞': 1, '觸身': 0, '全壘打': 1, '三振': 3, '安打': 2, '飛球': 3, '滾地球': 7},\n",
       " '邱浩鈞': {'四壞': 1, '觸身': 0, '全壘打': 0, '三振': 0, '安打': 1, '飛球': 2, '滾地球': 3},\n",
       " '周磊': {'四壞': 1, '觸身': 0, '全壘打': 0, '三振': 0, '安打': 2, '飛球': 1, '滾地球': 2},\n",
       " '陳柏豪': {'四壞': 0, '觸身': 0, '全壘打': 0, '三振': 0, '安打': 0, '飛球': 3, '滾地球': 2},\n",
       " '彭識穎': {'四壞': 0, '觸身': 0, '全壘打': 0, '三振': 0, '安打': 2, '飛球': 0, '滾地球': 0},\n",
       " '官大元': {'四壞': 0, '觸身': 0, '全壘打': 1, '三振': 0, '安打': 0, '飛球': 2, '滾地球': 1},\n",
       " '鄭錡鴻': {'四壞': 0, '觸身': 0, '全壘打': 0, '三振': 1, '安打': 3, '飛球': 0, '滾地球': 2},\n",
       " '蘇俊羽': {'四壞': 0, '觸身': 0, '全壘打': 0, '三振': 2, '安打': 6, '飛球': 0, '滾地球': 2},\n",
       " '尼克斯': {'四壞': 4, '觸身': 0, '全壘打': 0, '三振': 0, '安打': 5, '飛球': 3, '滾地球': 8},\n",
       " '李振昌': {'四壞': 0, '觸身': 0, '全壘打': 0, '三振': 0, '安打': 0, '飛球': 2, '滾地球': 2},\n",
       " '鄭承浩': {'四壞': 0, '觸身': 0, '全壘打': 0, '三振': 0, '安打': 0, '飛球': 0, '滾地球': 1},\n",
       " '林威志': {'四壞': 0, '觸身': 0, '全壘打': 0, '三振': 0, '安打': 0, '飛球': 0, '滾地球': 1},\n",
       " '江承峰': {'四壞': 0, '觸身': 0, '全壘打': 0, '三振': 0, '安打': 1, '飛球': 0, '滾地球': 1},\n",
       " '王躍霖': {'四壞': 1, '觸身': 0, '全壘打': 0, '三振': 0, '安打': 0, '飛球': 0, '滾地球': 1},\n",
       " '69黃子鵬': {'四壞': 1, '觸身': 0, '全壘打': 0, '三振': 0, '安打': 0, '飛球': 0, '滾地球': 0},\n",
       " '吳哲源': {'四壞': 0, '觸身': 0, '全壘打': 0, '三振': 0, '安打': 0, '飛球': 2, '滾地球': 0},\n",
       " '洪心騏': {'四壞': 0, '觸身': 0, '全壘打': 0, '三振': 0, '安打': 2, '飛球': 4, '滾地球': 2},\n",
       " '王玉譜': {'四壞': 1, '觸身': 0, '全壘打': 0, '三振': 0, '安打': 1, '飛球': 2, '滾地球': 1},\n",
       " '賴泊凱': {'四壞': 0, '觸身': 0, '全壘打': 0, '三振': 1, '安打': 0, '飛球': 1, '滾地球': 0},\n",
       " '馬丁尼茲': {'四壞': 0, '觸身': 0, '全壘打': 0, '三振': 1, '安打': 2, '飛球': 0, '滾地球': 6},\n",
       " '克恩三世': {'四壞': 0, '觸身': 0, '全壘打': 0, '三振': 0, '安打': 4, '飛球': 1, '滾地球': 2},\n",
       " '林國裕': {'四壞': 0, '觸身': 0, '全壘打': 0, '三振': 1, '安打': 0, '飛球': 3, '滾地球': 2},\n",
       " '邱品睿': {'四壞': 0, '觸身': 0, '全壘打': 0, '三振': 0, '安打': 0, '飛球': 1, '滾地球': 1},\n",
       " '楊志龍': {'四壞': 0, '觸身': 0, '全壘打': 2, '三振': 2, '安打': 3, '飛球': 0, '滾地球': 1},\n",
       " '黃偉晟': {'四壞': 0, '觸身': 0, '全壘打': 0, '三振': 0, '安打': 2, '飛球': 0, '滾地球': 1},\n",
       " '賽格威': {'四壞': 1, '觸身': 0, '全壘打': 0, '三振': 1, '安打': 4, '飛球': 2, '滾地球': 2},\n",
       " '朱俊祥': {'四壞': 0, '觸身': 0, '全壘打': 1, '三振': 1, '安打': 1, '飛球': 1, '滾地球': 0},\n",
       " '洪宸宇': {'四壞': 1, '觸身': 0, '全壘打': 0, '三振': 0, '安打': 1, '飛球': 0, '滾地球': 1},\n",
       " '陽建福': {'四壞': 0, '觸身': 0, '全壘打': 0, '三振': 0, '安打': 0, '飛球': 0, '滾地球': 1},\n",
       " '蔡齊哲': {'四壞': 1, '觸身': 0, '全壘打': 0, '三振': 3, '安打': 0, '飛球': 2, '滾地球': 2},\n",
       " '道恩斯': {'四壞': 0, '觸身': 0, '全壘打': 0, '三振': 1, '安打': 2, '飛球': 1, '滾地球': 5},\n",
       " '王耀霖': {'四壞': 0, '觸身': 0, '全壘打': 0, '三振': 0, '安打': 1, '飛球': 0, '滾地球': 0},\n",
       " '林柏佑': {'四壞': 0, '觸身': 0, '全壘打': 0, '三振': 0, '安打': 1, '飛球': 0, '滾地球': 0},\n",
       " '鏡銘': {'四壞': 0, '觸身': 0, '全壘打': 0, '三振': 0, '安打': 0, '飛球': 0, '滾地球': 1},\n",
       " '陳敏賜': {'四壞': 0, '觸身': 0, '全壘打': 0, '三振': 0, '安打': 3, '飛球': 0, '滾地球': 0},\n",
       " '洪聖欽': {'四壞': 0, '觸身': 0, '全壘打': 0, '三振': 0, '安打': 1, '飛球': 1, '滾地球': 2},\n",
       " '張凱倫': {'四壞': 0, '觸身': 0, '全壘打': 0, '三振': 1, '安打': 0, '飛球': 0, '滾地球': 0},\n",
       " '王鴻程': {'四壞': 0, '觸身': 0, '全壘打': 0, '三振': 0, '安打': 1, '飛球': 0, '滾地球': 0},\n",
       " '鄭鈞仁': {'四壞': 0, '觸身': 0, '全壘打': 0, '三振': 0, '安打': 1, '飛球': 0, '滾地球': 1},\n",
       " '林其緯': {'四壞': 1, '觸身': 0, '全壘打': 1, '三振': 0, '安打': 0, '飛球': 0, '滾地球': 0}}"
      ]
     },
     "execution_count": 691,
     "metadata": {},
     "output_type": "execute_result"
    }
   ],
   "source": [
    "# 胡金龍2018打擊紀錄(犧牲盜壘未紀錄)\n",
    "playRecord"
   ]
  },
  {
   "cell_type": "code",
   "execution_count": 694,
   "metadata": {
    "scrolled": true
   },
   "outputs": [
    {
     "data": {
      "text/plain": [
       "{'紐維拉': '中信兄弟',\n",
       " '艾迪頓': '中信兄弟',\n",
       " '萊福力': '中信兄弟',\n",
       " '林樺慶': 'Lamigo桃猿',\n",
       " '陳禹勳': 'Lamigo桃猿',\n",
       " '瑞安': '統一7-ELEVEn獅',\n",
       " '王鏡銘': '統一7-ELEVEn獅',\n",
       " '江辰晏': '統一7-ELEVEn獅',\n",
       " '黃竣彥': '統一7-ELEVEn獅',\n",
       " '安狄': '統一7-ELEVEn獅',\n",
       " '傅于剛': '統一7-ELEVEn獅',\n",
       " '謝榮豪': '中信兄弟',\n",
       " '陳琥': '中信兄弟',\n",
       " '鄭凱文': '中信兄弟',\n",
       " '王溢正': 'Lamigo桃猿',\n",
       " '吳丞哲': 'Lamigo桃猿',\n",
       " '黃子鵬': 'Lamigo桃猿',\n",
       " '史博威': 'Lamigo桃猿',\n",
       " '施子謙': '統一7-ELEVEn獅',\n",
       " '林子崴': '統一7-ELEVEn獅',\n",
       " '陳韻文': '統一7-ELEVEn獅',\n",
       " '羅里奇': '統一7-ELEVEn獅',\n",
       " '邱浩鈞': '統一7-ELEVEn獅',\n",
       " '周磊': '中信兄弟',\n",
       " '陳柏豪': '中信兄弟',\n",
       " '彭識穎': '中信兄弟',\n",
       " '官大元': '中信兄弟',\n",
       " '鄭錡鴻': '中信兄弟',\n",
       " '蘇俊羽': 'Lamigo桃猿',\n",
       " '尼克斯': 'Lamigo桃猿',\n",
       " '李振昌': '中信兄弟',\n",
       " '鄭承浩': 'Lamigo桃猿',\n",
       " '林威志': '統一7-ELEVEn獅',\n",
       " '江承峰': '統一7-ELEVEn獅',\n",
       " '王躍霖': 'Lamigo桃猿',\n",
       " '69黃子鵬': 'Lamigo桃猿',\n",
       " '吳哲源': '中信兄弟',\n",
       " '洪心騏': '統一7-ELEVEn獅',\n",
       " '王玉譜': '統一7-ELEVEn獅',\n",
       " '賴泊凱': '統一7-ELEVEn獅',\n",
       " '馬丁尼茲': '統一7-ELEVen獅',\n",
       " '克恩三世': 'Lamigo Monkeys',\n",
       " '林國裕': 'Lamigo Monkeys',\n",
       " '邱品睿': '中信兄弟',\n",
       " '楊志龍': '中信兄弟',\n",
       " '黃偉晟': 'Lamigo Monkeys',\n",
       " '賽格威': '中信兄弟',\n",
       " '朱俊祥': 'Lamigo桃猿',\n",
       " '洪宸宇': '中信兄弟',\n",
       " '陽建福': '統一7-ELEVen獅',\n",
       " '蔡齊哲': '中信兄弟',\n",
       " '道恩斯': 'Lamigo桃猿',\n",
       " '王耀霖': 'Lamigo桃猿',\n",
       " '林柏佑': 'Lamigo桃猿',\n",
       " '鏡銘': '統一獅',\n",
       " '陳敏賜': 'Lamigo桃猿',\n",
       " '洪聖欽': 'Lamigo桃猿',\n",
       " '張凱倫': '中信兄弟',\n",
       " '王鴻程': '中信兄弟',\n",
       " '鄭鈞仁': '統一7-ELEVEn獅',\n",
       " '林其緯': '統一7-ELEVEn獅'}"
      ]
     },
     "execution_count": 694,
     "metadata": {},
     "output_type": "execute_result"
    }
   ],
   "source": [
    "# 胡金龍2018所面對的投手所屬隊伍\n",
    "pitcherTeam"
   ]
  },
  {
   "cell_type": "code",
   "execution_count": 697,
   "metadata": {},
   "outputs": [],
   "source": [
    "#匯出成CSV檔\n",
    "import csv\n",
    "with open('hu15.csv', 'w', newline='') as csvfile:\n",
    "    # 定義欄位\n",
    "    fieldnames = ['投手','投手隊伍','四壞', '觸身', '全壘打','三振', '安打', '飛球','滾地球']\n",
    "    # 將 dictionary 寫入 CSV 檔\n",
    "    writer = csv.DictWriter(csvfile, fieldnames=fieldnames)\n",
    "    # 寫入第一列的欄位名稱\n",
    "    writer.writeheader()\n",
    "    # 寫入資料\n",
    "    for p in playRecord.keys():\n",
    "        pValue=copy.deepcopy(playRecord[p])\n",
    "        pValue['投手']=p\n",
    "        pValue['投手隊伍']=pitcherTeam[p]\n",
    "        writer.writerow(pValue)"
   ]
  }
 ],
 "metadata": {
  "kernelspec": {
   "display_name": "Python 3",
   "language": "python",
   "name": "python3"
  },
  "language_info": {
   "codemirror_mode": {
    "name": "ipython",
    "version": 3
   },
   "file_extension": ".py",
   "mimetype": "text/x-python",
   "name": "python",
   "nbconvert_exporter": "python",
   "pygments_lexer": "ipython3",
   "version": "3.7.1"
  }
 },
 "nbformat": 4,
 "nbformat_minor": 2
}
